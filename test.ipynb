{
 "cells": [
  {
   "cell_type": "code",
   "execution_count": 45,
   "id": "315367dd",
   "metadata": {},
   "outputs": [],
   "source": [
    "from model import Model\n",
    "import numpy as np\n",
    "import mlx.core as mx\n",
    "import mlx.nn as nn\n",
    "import mlx.optimizers as optim\n",
    "import sklearn.datasets\n",
    "import sklearn.preprocessing\n",
    "import catboost\n",
    "import time"
   ]
  },
  {
   "cell_type": "markdown",
   "id": "953cedf4",
   "metadata": {},
   "source": [
    "## 📊 Dataset"
   ]
  },
  {
   "cell_type": "code",
   "execution_count": 30,
   "id": "aeb747ea",
   "metadata": {},
   "outputs": [],
   "source": [
    "dataset = sklearn.datasets.fetch_california_housing()\n",
    "\n",
    "dataset['data'] = sklearn.preprocessing.QuantileTransformer(output_distribution='normal').fit_transform(dataset['data'])"
   ]
  },
  {
   "cell_type": "code",
   "execution_count": 31,
   "id": "7c293fab",
   "metadata": {},
   "outputs": [],
   "source": [
    "all_idx = np.arange(len(dataset['data']))\n",
    "trainval_idx, test_idx = sklearn.model_selection.train_test_split(\n",
    "    all_idx, train_size=0.8\n",
    ")\n",
    "train_idx, val_idx = sklearn.model_selection.train_test_split(\n",
    "    trainval_idx, train_size=0.8\n",
    ")\n",
    "data_mx = {\n",
    "    'train': {'x': mx.array(dataset['data'][train_idx]), 'y': mx.array(dataset['target'][train_idx])},\n",
    "    'val': {'x': mx.array(dataset['data'][val_idx]), 'y': mx.array(dataset['target'][val_idx])},\n",
    "    'test': {'x': mx.array(dataset['data'][test_idx]), 'y': mx.array(dataset['target'][test_idx])},\n",
    "}"
   ]
  },
  {
   "cell_type": "markdown",
   "id": "ea71e1fd",
   "metadata": {},
   "source": [
    "## 🤖 Model"
   ]
  },
  {
   "cell_type": "code",
   "execution_count": 36,
   "id": "ba195f9b",
   "metadata": {},
   "outputs": [],
   "source": [
    "def compute_bins(data, n_bins):\n",
    "    bins = [\n",
    "        np.unique(q)\n",
    "        for q in np.nanquantile(\n",
    "            data, np.linspace(0.0, 1.0, n_bins), axis=0\n",
    "        ).T\n",
    "    ]\n",
    "    return bins\n",
    "\n",
    "bins = compute_bins(data_mx['train']['x'], 30)"
   ]
  },
  {
   "cell_type": "code",
   "execution_count": 37,
   "id": "ef5dee6f",
   "metadata": {},
   "outputs": [],
   "source": [
    "config = {\n",
    "    'n_num_features': data_mx['train']['x'].shape[1],\n",
    "    'n_classes': None,\n",
    "    'backbone': {'n_blocks': 3, 'd_block': 576, 'dropout': 0.25},\n",
    "    'arch_type': 'tabm-mini',\n",
    "    'cat_cardinalities': [],\n",
    "    'k': 32,\n",
    "    'share_training_batches': False,\n",
    "    'num_embeddings': {'d_embedding': 16, 'bins': bins}\n",
    "}\n",
    "\n",
    "model = Model(**config)"
   ]
  },
  {
   "cell_type": "code",
   "execution_count": 38,
   "id": "593a8334",
   "metadata": {},
   "outputs": [
    {
     "name": "stdout",
     "output_type": "stream",
     "text": [
      "Number of parametrs: 766232\n"
     ]
    }
   ],
   "source": [
    "from mlx.utils import tree_flatten\n",
    "params = tree_flatten(model.parameters())\n",
    "total = sum(x[1].size for x in params)\n",
    "print(f'Number of parametrs: {total}')"
   ]
  },
  {
   "cell_type": "markdown",
   "id": "421bb947",
   "metadata": {},
   "source": [
    "## 📈 Training"
   ]
  },
  {
   "cell_type": "code",
   "execution_count": 39,
   "id": "7e0a5cea",
   "metadata": {},
   "outputs": [
    {
     "name": "stderr",
     "output_type": "stream",
     "text": [
      "  0%|          | 191/1000000 [09:09<960:20:29,  3.46s/it]"
     ]
    },
    {
     "name": "stdout",
     "output_type": "stream",
     "text": [
      "New best epoch: {'val_loss': 0.44075900316238403, 'test_loss': 0.4432174861431122, 'epoch_num': 190}\n"
     ]
    },
    {
     "name": "stderr",
     "output_type": "stream",
     "text": [
      "  0%|          | 206/1000000 [10:02<811:39:06,  2.92s/it] \n"
     ]
    },
    {
     "data": {
      "text/plain": [
       "{'val_loss': 0.44075900316238403,\n",
       " 'test_loss': 0.4432174861431122,\n",
       " 'epoch_num': 190}"
      ]
     },
     "execution_count": 39,
     "metadata": {},
     "output_type": "execute_result"
    }
   ],
   "source": [
    "from tqdm import tqdm\n",
    "from IPython.display import clear_output\n",
    "\n",
    "def loss_fn_mse(model, X, y):\n",
    "\tif config['share_training_batches']:\n",
    "\t\treturn mx.mean(nn.losses.mse_loss(model(X).flatten(0, 1)[:, 0], mx.repeat(y, repeats=config['k'])))\n",
    "\telse:\n",
    "\t\treturn mx.mean(nn.losses.mse_loss(model(X).flatten(0, 1)[:, 0], y))\n",
    "\t\n",
    "def batch_iterate(batch_size, X, y):\n",
    "    perm = mx.array(np.random.permutation(y.size))\n",
    "    for s in range(0, y.size, batch_size):\n",
    "        ids = perm[s : s + batch_size]\n",
    "        yield X[ids], y[ids]\n",
    "\n",
    "batch_size = 256\n",
    "\n",
    "mx.eval(model.parameters())\n",
    "loss_and_grad_fn = nn.value_and_grad(model, loss_fn_mse)\n",
    "optimizer = optim.AdamW(learning_rate=0.0003)\n",
    "train_size = data_mx['train']['x'].shape[0]\n",
    "split_indexes = [i for i in range(batch_size, train_size, batch_size)]\n",
    "best_epoch = {'val_loss': 1e9, 'test_loss': 1e9}\n",
    "cur_patience = 16\n",
    "patience = cur_patience\n",
    "for e in tqdm(range(1000000)):\n",
    "    batches = (\n",
    "        mx.random.permutation(train_size).split(split_indexes)\n",
    "        if config['share_training_batches']\n",
    "        else\n",
    "        [x_.transpose(0, 1).flatten() for x_ in mx.split(mx.argsort(mx.random.normal((model.k, train_size)), axis=1), split_indexes, axis=1)]\n",
    "    )\n",
    "    model.train()\n",
    "    for batch_indexes in batches:\n",
    "        loss, grads = loss_and_grad_fn(model, data_mx['train']['x'][batch_indexes], data_mx['train']['y'][batch_indexes])\n",
    "\n",
    "        clipped_grads, total_norm = optim.clip_grad_norm(grads, max_norm=1.0)\n",
    "\n",
    "        optimizer.update(model, clipped_grads)\n",
    "\n",
    "        mx.eval(model.state)\n",
    "    model.eval()\n",
    "    val_loss = ((model(data_mx['val']['x']).squeeze().mean(axis=1) - data_mx['val']['y']) ** 2).mean().sqrt()\n",
    "    test_loss = ((model(data_mx['test']['x']).squeeze().mean(axis=1) - data_mx['test']['y']) ** 2).mean().sqrt()\n",
    "    epoch = {'val_loss': val_loss.item(), 'test_loss': test_loss.item(), 'epoch_num': e}\n",
    "    if epoch['val_loss'] < best_epoch['val_loss']:\n",
    "        clear_output()\n",
    "        print('New best epoch:', epoch)\n",
    "        best_epoch = epoch\n",
    "        cur_patience = patience\n",
    "    else:\n",
    "        cur_patience -= 1\n",
    "        if not cur_patience:\n",
    "            break\n",
    "\n",
    "best_epoch"
   ]
  },
  {
   "cell_type": "markdown",
   "id": "8d5023eb",
   "metadata": {},
   "source": [
    "## 🐈 Catboost "
   ]
  },
  {
   "cell_type": "code",
   "execution_count": 67,
   "id": "7dfad1be",
   "metadata": {},
   "outputs": [
    {
     "name": "stdout",
     "output_type": "stream",
     "text": [
      "Learning rate set to 0.076361\n",
      "0:\tlearn: 1.1046602\ttest: 1.1226143\tbest: 1.1226143 (0)\ttotal: 2.48ms\tremaining: 2.48s\n",
      "100:\tlearn: 0.5037056\ttest: 0.5284944\tbest: 0.5284944 (100)\ttotal: 111ms\tremaining: 984ms\n",
      "200:\tlearn: 0.4462318\ttest: 0.4904789\tbest: 0.4904789 (200)\ttotal: 212ms\tremaining: 843ms\n",
      "300:\tlearn: 0.4143273\ttest: 0.4763013\tbest: 0.4763013 (300)\ttotal: 317ms\tremaining: 736ms\n",
      "400:\tlearn: 0.3908162\ttest: 0.4657481\tbest: 0.4657481 (400)\ttotal: 429ms\tremaining: 640ms\n",
      "500:\tlearn: 0.3731543\ttest: 0.4602580\tbest: 0.4602580 (500)\ttotal: 538ms\tremaining: 536ms\n",
      "600:\tlearn: 0.3573078\ttest: 0.4562292\tbest: 0.4562292 (600)\ttotal: 638ms\tremaining: 424ms\n",
      "700:\tlearn: 0.3434931\ttest: 0.4524826\tbest: 0.4524826 (700)\ttotal: 754ms\tremaining: 321ms\n",
      "800:\tlearn: 0.3323861\ttest: 0.4506490\tbest: 0.4505686 (796)\ttotal: 853ms\tremaining: 212ms\n",
      "900:\tlearn: 0.3217677\ttest: 0.4485375\tbest: 0.4485375 (900)\ttotal: 952ms\tremaining: 105ms\n",
      "999:\tlearn: 0.3116026\ttest: 0.4456904\tbest: 0.4456904 (999)\ttotal: 1.04s\tremaining: 0us\n",
      "\n",
      "bestTest = 0.4456903895\n",
      "bestIteration = 999\n",
      "\n"
     ]
    },
    {
     "data": {
      "text/plain": [
       "<catboost.core.CatBoostRegressor at 0x13d7c82c0>"
      ]
     },
     "execution_count": 67,
     "metadata": {},
     "output_type": "execute_result"
    }
   ],
   "source": [
    "model_cat = catboost.CatBoostRegressor()\n",
    "model_cat.fit(data_mx['train']['x'].tolist(), data_mx['train']['y'].tolist(), eval_set=(data_mx['val']['x'].tolist(), data_mx['val']['y'].tolist()), verbose=100)"
   ]
  },
  {
   "cell_type": "code",
   "execution_count": 68,
   "id": "aecb3623",
   "metadata": {},
   "outputs": [
    {
     "name": "stdout",
     "output_type": "stream",
     "text": [
      "Test error: 0.444754201770917\n"
     ]
    }
   ],
   "source": [
    "print(f'Test error: {np.sqrt(((model_cat.predict(data_mx['test']['x'].tolist()) - data_mx['test']['y']) ** 2).mean())}')"
   ]
  },
  {
   "cell_type": "markdown",
   "id": "8182b87a",
   "metadata": {},
   "source": [
    "## ⏱️ Benchmarks"
   ]
  },
  {
   "cell_type": "code",
   "execution_count": 73,
   "id": "cab542fb",
   "metadata": {},
   "outputs": [
    {
     "name": "stdout",
     "output_type": "stream",
     "text": [
      "TabM mini throughput: 19689.7415275832\n"
     ]
    }
   ],
   "source": [
    "start = time.time()\n",
    "\n",
    "for i in range(train_size):\n",
    "    model(data_mx['train']['x'][[i]])\n",
    "\n",
    "print(f'TabM mini throughput: {train_size / (time.time() - start)}')"
   ]
  },
  {
   "cell_type": "code",
   "execution_count": 74,
   "id": "eed8fb88",
   "metadata": {},
   "outputs": [
    {
     "name": "stdout",
     "output_type": "stream",
     "text": [
      "Catboost throughput: 7834.57003081785\n"
     ]
    }
   ],
   "source": [
    "data = data_mx['train']['x'].tolist()\n",
    "\n",
    "start = time.time()\n",
    "\n",
    "for i in range(train_size):\n",
    "    model_cat.predict([data[i]])\n",
    "\n",
    "print(f'Catboost throughput: {train_size / (time.time() - start)}')"
   ]
  }
 ],
 "metadata": {
  "kernelspec": {
   "display_name": "Python 3",
   "language": "python",
   "name": "python3"
  },
  "language_info": {
   "codemirror_mode": {
    "name": "ipython",
    "version": 3
   },
   "file_extension": ".py",
   "mimetype": "text/x-python",
   "name": "python",
   "nbconvert_exporter": "python",
   "pygments_lexer": "ipython3",
   "version": "3.12.8"
  }
 },
 "nbformat": 4,
 "nbformat_minor": 5
}
